{
 "cells": [
  {
   "cell_type": "markdown",
   "id": "3ce518f2-2d5c-4306-9c7e-c2b722ef35a3",
   "metadata": {
    "jp-MarkdownHeadingCollapsed": true,
    "tags": []
   },
   "source": [
    "# Malware Analysis & Triage Kit\n",
    "This notebook performs the initial stages of immediate malware triage.\n",
    "\n",
    "## How To\n",
    "Take your malware specimen and drop it into the `dropbox` directory. The notebook will walk you through the stages of initial analysis.\n",
    "\n",
    "At the end of this process, you will have a triage report in the `saved-specimens` diretory. This report includes findings from initial triage, including the defanged specimen in a password-proteced Zip file and static analysis artifacts."
   ]
  },
  {
   "cell_type": "markdown",
   "id": "5f44fca4-7efb-4475-80d9-c9379cb20efe",
   "metadata": {},
   "source": [
    "# Imports and Setup"
   ]
  },
  {
   "cell_type": "code",
   "execution_count": null,
   "id": "27c75489",
   "metadata": {},
   "outputs": [],
   "source": [
    "# Imports\n",
    "from hashlib import *\n",
    "import sys\n",
    "import os\n",
    "from getpass import getpass\n",
    "from virus_total_apis import PublicApi as VirusTotalPublicApi\n",
    "import json\n",
    "from MalwareSample import *\n",
    "from pprint import pprint\n",
    "import os.path\n",
    "from time import sleep\n",
    "\n",
    "import subprocess\n",
    "import json\n",
    "!pip3 install pandas\n",
    "from pandas import pandas as pandas\n",
    "from pandas import DataFrame as df\n",
    "import numpy\n",
    "import requests\n",
    "import pprint\n",
    "import io\n",
    "import math\n",
    "import csv\n",
    "from datetime import date, timedelta\n",
    "from functools import reduce\n",
    "#from pandarallel import pandarallel\n",
    "#pandarallel.initialize()\n",
    "import time\n",
    "import urllib\n",
    "import bz2\n",
    "import datetime\n",
    "import lxml\n",
    "import re\n",
    "#from tqdm import tqdm\n",
    "#import requests_async\n",
    "#import matplotlib.pyplot as plt\n",
    "import asyncio\n",
    "#import itables.interactive\n",
    "#import qgrid\n",
    "!pip3 install itables\n",
    "import itables.options as opt\n",
    "pandas.set_option('display.max_rows', 100000)\n",
    "pandas.set_option('display.max_columns', 500)\n",
    "pandas.get_option('display.max_columns')\n",
    "pandas.set_option('display.width', 10000)\n",
    "\n",
    "\n",
    "from IPython.core.display import display, HTML\n",
    "display(HTML(\"<style>.container { width:100% !important; }</style>\"))\n",
    "pandas.set_option('display.max_colwidth', None)\n",
    "opt.maxBytes = 90000**6\n",
    "\n",
    "\n",
    "import os\n",
    "import requests\n",
    "from bs4 import BeautifulSoup\n",
    "import time\n",
    "import re\n",
    "import io\n",
    "from zipfile import ZipFile\n"
   ]
  },
  {
   "cell_type": "markdown",
   "id": "aaeaa0f8-988e-441c-9c64-473a4a248d74",
   "metadata": {},
   "source": [
    "## Download Samples from Malware Traffic Analysis"
   ]
  },
  {
   "cell_type": "markdown",
   "id": "0b31d502-067b-4be3-bbc0-128c3b785238",
   "metadata": {},
   "source": [
    "This code is used to download all samples for the given years (in script). The files are downloaded into folders by month.  Then the files are moved in to the dropbox folder and the other directories removed."
   ]
  },
  {
   "cell_type": "code",
   "execution_count": null,
   "id": "f1941ab3-4665-4d8e-88aa-ae1c819a37f6",
   "metadata": {},
   "outputs": [],
   "source": [
    "\n",
    "\n",
    "EXTENSION_LIST = [\n",
    "    'doc',\n",
    "    'xls',\n",
    "    'ppt',\n",
    "    'cab',\n",
    "    'exe',\n",
    "    'pe',\n",
    "    'apk',\n",
    "    'macos',\n",
    "    'elf',\n",
    "    'dylib', # Mach-O/Unibin\n",
    "    'bundle', # Mach-O/Unibin\n",
    "    'dmg',\n",
    "    'jar',\n",
    "    'pdf',\n",
    "    'eicar',\n",
    "    'swf'\n",
    "]\n",
    "\n",
    "\n",
    "class MaliciousSamples:\n",
    "\n",
    "    DATE_RE = re.compile('^\\d{4}-\\d{2}-\\d{2}$')\n",
    "    MALWARE_TRAFFIC_ANALYSIS_URL = 'https://malware-traffic-analysis.net'\n",
    "\n",
    "    def malware_traffic_analysis(self, \n",
    "                                 years=['2022'], \n",
    "                                 extensions=EXTENSION_LIST,\n",
    "                                 save_path='dropbox/'\n",
    "        ):\n",
    "        self.extensions = extensions\n",
    "        date_links = []\n",
    "        for year in years:\n",
    "            year_url = '{}/{}/index.html'.format(self.MALWARE_TRAFFIC_ANALYSIS_URL, year)\n",
    "            year_response = requests.get(year_url)\n",
    "            if year_response.status_code == 200:\n",
    "                year_text = year_response.text\n",
    "                soup = BeautifulSoup(year_text, 'lxml')\n",
    "                year_links = soup.find_all('a')\n",
    "                for year_link in year_links:\n",
    "                    text = year_link.get_text()\n",
    "                    href = year_link.get('href')\n",
    "                    if self.DATE_RE.match(text):\n",
    "                        link = '{}/{}/{}'.format(self.MALWARE_TRAFFIC_ANALYSIS_URL, year, href)\n",
    "                        date_links.append(link)\n",
    "        malware_zip_links = []\n",
    "        for date_url in date_links:\n",
    "            time.sleep(1)\n",
    "            date_folder = '/'.join(date_url.split('/')[0:-1])\n",
    "            folder_path =date_folder.split(self.MALWARE_TRAFFIC_ANALYSIS_URL)[-1].strip()\n",
    "            folder_path = save_path + folder_path\n",
    "            if not os.path.exists(folder_path):\n",
    "                os.makedirs(folder_path)\n",
    "            date_response = requests.get(date_url)\n",
    "            if date_response.status_code == 200:\n",
    "                date_text = date_response.text\n",
    "                soup = BeautifulSoup(date_text, 'lxml')\n",
    "                links = soup.find_all('a')\n",
    "                for link in links:\n",
    "                    text = link.get_text().upper()\n",
    "                    if 'MALWARE' in text and '.ZIP' in text:\n",
    "                        href = link.get('href')\n",
    "                        malware_link = '{}/{}'.format(date_folder, href)\n",
    "                        malware_request = requests.get(malware_link)\n",
    "                        if malware_request.status_code == 200:\n",
    "                            contents = malware_request.content\n",
    "                            filebytes = io.BytesIO(contents)\n",
    "                            zf = ZipFile(filebytes)\n",
    "                            if 'all' in self.extensions:\n",
    "                                zf.extractall(path=folder_path, pwd=b'infected')\n",
    "                            else:\n",
    "                                for name in zf.namelist():\n",
    "                                    for extension in self.extensions:\n",
    "                                        if name.endswith(extension):\n",
    "                                            zf.extract(name, folder_path, pwd=b'infected')\n",
    "                            malware_zip_links.append(folder_path)\n",
    "        return malware_zip_links\n",
    "\n",
    "    def test_files(self):\n",
    "        '''\n",
    "            If you have SSL decryption enabled on the firewall, use one of the following URLs:\n",
    "                PE—https://wildfire.paloaltonetworks.com/publicapi/test/pe\n",
    "                APK—https://wildfire.paloaltonetworks.com/publicapi/test/apk\n",
    "                MacOSX—https://wildfire.paloaltonetworks.com/publicapi/test/macos\n",
    "                ELF—https://wildfire.paloaltonetworks.com/publicapi/test/elf\n",
    "            If you do not have SSL decryption enabled on the firewall, use one of the following URLs instead:\n",
    "                PE—http://wildfire.paloaltonetworks.com/publicapi/test/pe\n",
    "                APK—http://wildfire.paloaltonetworks.com/publicapi/test/apk\n",
    "                MacOSX—http://wildfire.paloaltonetworks.com/publicapi/test/macos\n",
    "                ELF—http://wildfire.paloaltonetworks.com/publicapi/test/elf\n",
    "        '''\n",
    "\n",
    "\n",
    "\n",
    "print(MaliciousSamples().malware_traffic_analysis())\n",
    "!cp -a --link ../dropbox/2022/* /dropbbox/.  &&  rm -rf ../dropbox/2022/\n",
    "!rm -rf dropbox/2022"
   ]
  },
  {
   "cell_type": "markdown",
   "id": "664c107c-4e09-4454-9d0f-14b02a4a4359",
   "metadata": {},
   "source": [
    "### Check Dropbox and Saved-Specimens"
   ]
  },
  {
   "cell_type": "code",
   "execution_count": null,
   "id": "2c185a74-8ca6-47a9-a907-575f9977bf97",
   "metadata": {},
   "outputs": [],
   "source": [
    "MalwareSample.check_dir(\"dropbox\")\n",
    "MalwareSample.check_dir(\"saved-specimens\")\n",
    "empty = MalwareSample.is_dir_empty(\"dropbox\")\n",
    "if empty:\n",
    "    print(r\"  \\\\--> \" + recc + \"Put some samples in the dropbox!\")"
   ]
  },
  {
   "cell_type": "markdown",
   "id": "6040f004-b9e1-40a8-97d7-47a695a244d1",
   "metadata": {},
   "source": [
    "### Enumerate Samples in the Dropbox"
   ]
  },
  {
   "cell_type": "code",
   "execution_count": null,
   "id": "05d854a4-2ee3-46ec-b054-9951ac45a4be",
   "metadata": {},
   "outputs": [],
   "source": [
    "samples=!ls dropbox/*\n",
    "for s in samples:\n",
    "    print(info + \"Sample: \" + s)"
   ]
  },
  {
   "cell_type": "code",
   "execution_count": null,
   "id": "6ac2bf59-027e-42d6-90e0-aeed55b19080",
   "metadata": {},
   "outputs": [],
   "source": [
    "sample_obj = [MalwareSample(s) for s in samples]"
   ]
  },
  {
   "cell_type": "markdown",
   "id": "d304d261-d1d8-45da-bcb5-895bcf0fa13d",
   "metadata": {},
   "source": [
    "### Create a Saved Specimen directory for the specimen(s)"
   ]
  },
  {
   "cell_type": "code",
   "execution_count": null,
   "id": "2180e548-b0ab-4c22-9be5-ad174c1c731f",
   "metadata": {},
   "outputs": [],
   "source": [
    "for obj in sample_obj:\n",
    "    saved_sample_name = MalwareSample.create_specimen_dirs(obj.sample_name)\n",
    "    obj.saved_sample_name = saved_sample_name"
   ]
  },
  {
   "cell_type": "markdown",
   "id": "5bbd76df",
   "metadata": {},
   "source": [
    "### Defang Sample"
   ]
  },
  {
   "cell_type": "code",
   "execution_count": null,
   "id": "26e85823-d891-4dfb-925e-8d36f24d3cb2",
   "metadata": {},
   "outputs": [],
   "source": [
    "for obj in sample_obj:\n",
    "    sample_path = MalwareSample.move_and_defang(obj.sample_name, obj.saved_sample_name)\n",
    "    obj.sample_path = sample_path"
   ]
  },
  {
   "cell_type": "markdown",
   "id": "7532c0d9-1a4d-4cc9-af82-f9153d1aaa09",
   "metadata": {},
   "source": [
    "---"
   ]
  },
  {
   "cell_type": "markdown",
   "id": "6a11a2b7-dca9-4892-82b4-7d2c7d73956c",
   "metadata": {},
   "source": [
    "## File Hashes"
   ]
  },
  {
   "cell_type": "markdown",
   "id": "b6c61ed7-9ffe-420b-925f-4430abcc0532",
   "metadata": {},
   "source": [
    "### SHA256 Sum"
   ]
  },
  {
   "cell_type": "code",
   "execution_count": null,
   "id": "005b84f0",
   "metadata": {},
   "outputs": [],
   "source": [
    "for obj in sample_obj:\n",
    "    hash = MalwareSample.get_sha256sum(obj.sample_path, obj.saved_sample_name)\n",
    "    obj.sha256sum = hash\n",
    "    print(info + obj.sample_name + \": \" + obj.sha256sum)"
   ]
  },
  {
   "cell_type": "markdown",
   "id": "b6262536-41fe-46ef-a122-a7128be06891",
   "metadata": {},
   "source": [
    "---"
   ]
  },
  {
   "cell_type": "markdown",
   "id": "1ba005fc-242a-44bd-9830-fe02dbd500db",
   "metadata": {},
   "source": [
    "## String Analysis"
   ]
  },
  {
   "cell_type": "markdown",
   "id": "0b20f1aa",
   "metadata": {},
   "source": [
    "### StringSifter\n",
    "StringSifter is a FLARE developed tool that uses an ML model to rank a binary's strings by relevance to malware analysis."
   ]
  },
  {
   "cell_type": "code",
   "execution_count": null,
   "id": "d55ea3ab-ef6e-41f9-a76e-6cd8d16083ed",
   "metadata": {},
   "outputs": [],
   "source": [
    "length = int(input(recc + \"Input your desired minimum string length [default is 4, 6-8 is recommended] > \"))"
   ]
  },
  {
   "cell_type": "code",
   "execution_count": null,
   "id": "6703a990-6415-4898-b395-b77dccc629fc",
   "metadata": {},
   "outputs": [],
   "source": [
    "for obj in sample_obj:\n",
    "    MalwareSample.pull_strings(length, obj.saved_sample_name, obj.sample_path)"
   ]
  },
  {
   "cell_type": "markdown",
   "id": "ae8b0dfd-abcd-4215-87d9-275190551475",
   "metadata": {},
   "source": [
    "## VT Analysis\n",
    "Submit samples to Virus Total and generate a malicious confidence level."
   ]
  },
  {
   "cell_type": "code",
   "execution_count": null,
   "id": "98eea2a6-b219-4e50-ba91-9d43afa5b49c",
   "metadata": {},
   "outputs": [],
   "source": [
    "VT_API_KEY = getpass(\"Enter VirusTotal API Key (blank if none): \")"
   ]
  },
  {
   "cell_type": "code",
   "execution_count": null,
   "id": "22aaffd7-4ad5-48cf-bfac-636c62338621",
   "metadata": {},
   "outputs": [],
   "source": [
    "if VT_API_KEY:\n",
    "    vt = VirusTotalPublicApi(VT_API_KEY)\n",
    "else:\n",
    "    print(info + \"No VT API Key. Skipping...\")"
   ]
  },
  {
   "cell_type": "markdown",
   "id": "b7bfdd87-4fcb-4b05-a0e7-8b1c796f17a7",
   "metadata": {},
   "source": [
    "Note: If there are more than 4 samples in the dropbox, hashes are submitted with a sleep of 16 seconds to remain under the public API rate limit. So hit go, grab a beverage of choice, stretch out and relax. This could be a while depending on how many samples you're submitting."
   ]
  },
  {
   "cell_type": "code",
   "execution_count": null,
   "id": "eab96775-bec5-4501-bfb9-3b3695190dd0",
   "metadata": {},
   "outputs": [],
   "source": [
    "if VT_API_KEY:\n",
    "    for obj in sample_obj:\n",
    "        print(info + obj.sample_name + \":\")\n",
    "        print(r\"  \\\\--> \" + info + \"SHA256sum: \" + obj.sha256sum)\n",
    "        res = vt.get_file_report(obj.sha256sum)\n",
    "        conf = malicious_confidence(res)\n",
    "        print(r\"  \\\\--> \" + info + \"Confidence level: \" + str(conf))\n",
    "        crit_level =  determine_criticality(conf)\n",
    "        obj.criticality = crit_level\n",
    "        \n",
    "\n",
    "        if len(sample_obj) >= 5:\n",
    "            sleep(16)\n",
    "        \n",
    "else:\n",
    "    print(info + \"No VT API Key. Skipping...\")"
   ]
  },
  {
   "cell_type": "markdown",
   "id": "74ef07f9-bc9d-4e4b-a0f5-b272e2b130e3",
   "metadata": {},
   "source": [
    "## Binary Analysis"
   ]
  },
  {
   "cell_type": "markdown",
   "id": "5fcd2677-99bd-40ed-b98c-0a9b12e38cc4",
   "metadata": {},
   "source": [
    "### Run PeFrame"
   ]
  },
  {
   "cell_type": "markdown",
   "id": "0ef4a2c8-db58-43fa-9f61-0af26aef9b82",
   "metadata": {},
   "source": [
    "Run PEFrame tool and output to json file for json parsing"
   ]
  },
  {
   "cell_type": "code",
   "execution_count": null,
   "id": "e19de07f-4118-4d5d-8a3f-9777cf4c8174",
   "metadata": {},
   "outputs": [],
   "source": [
    "for s in sample_obj:\n",
    "    with open(\"saved-specimens/\" + s.saved_sample_name + \"/peframe.txt\", \"w\") as filep:\n",
    "        print(\"analyzing \" + s.sample_name + \" with peframe\")\n",
    "        proc = subprocess.run(\"peframe -j dropbox/\" + s.sample_name, stdout=filep,text=True,shell=True)\n",
    "print(\"peframe analysis completed\")"
   ]
  },
  {
   "cell_type": "markdown",
   "id": "343fa9fa-4c44-445c-ab71-687f1e7d56fa",
   "metadata": {},
   "source": [
    "## Zip and Password Protect"
   ]
  },
  {
   "cell_type": "code",
   "execution_count": null,
   "id": "d1d38b8e-dc28-42ba-a9ce-2ab3bf11ce61",
   "metadata": {},
   "outputs": [],
   "source": [
    "for obj in sample_obj:\n",
    "    zip_file = MalwareSample.zip_and_password_protect(obj.sample_path, obj.saved_sample_name)\n",
    "    MalwareSample.delete_unzipped_sample(obj.sample_path, zip_file)"
   ]
  },
  {
   "cell_type": "markdown",
   "id": "633b965d-d0f8-47ab-ad92-07e379e2cdbf",
   "metadata": {},
   "source": [
    "---"
   ]
  },
  {
   "cell_type": "markdown",
   "id": "1aca7034-9406-4f2a-bd8b-0b238c72db37",
   "metadata": {},
   "source": [
    "### Debug Object Vars"
   ]
  },
  {
   "cell_type": "code",
   "execution_count": null,
   "id": "9bcc8b5c-46a0-4e5e-bdc8-a9ae68b889ce",
   "metadata": {},
   "outputs": [],
   "source": [
    "for obj in sample_obj:\n",
    "    pprint(vars(obj))"
   ]
  }
 ],
 "metadata": {
  "kernelspec": {
   "display_name": "Python 3 (ipykernel)",
   "language": "python",
   "name": "python3"
  },
  "language_info": {
   "codemirror_mode": {
    "name": "ipython",
    "version": 3
   },
   "file_extension": ".py",
   "mimetype": "text/x-python",
   "name": "python",
   "nbconvert_exporter": "python",
   "pygments_lexer": "ipython3",
   "version": "3.9.7"
  }
 },
 "nbformat": 4,
 "nbformat_minor": 5
}
